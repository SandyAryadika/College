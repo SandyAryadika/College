{
 "cells": [
  {
   "cell_type": "code",
   "execution_count": 1,
   "metadata": {},
   "outputs": [
    {
     "ename": "ModuleNotFoundError",
     "evalue": "No module named 'google.colab'",
     "output_type": "error",
     "traceback": [
      "\u001b[1;31m---------------------------------------------------------------------------\u001b[0m",
      "\u001b[1;31mModuleNotFoundError\u001b[0m                       Traceback (most recent call last)",
      "\u001b[1;32md:\\KULIAH\\SEMESTER 3\\STATISTIK KOMPUTASI\\Tugas 2\\Program UTS.ipynb Cell 1\u001b[0m line \u001b[0;36m2\n\u001b[0;32m      <a href='vscode-notebook-cell:/d%3A/KULIAH/SEMESTER%203/STATISTIK%20KOMPUTASI/Tugas%202/Program%20UTS.ipynb#W0sZmlsZQ%3D%3D?line=0'>1</a>\u001b[0m \u001b[39mimport\u001b[39;00m \u001b[39mpandas\u001b[39;00m \u001b[39mas\u001b[39;00m \u001b[39mpd\u001b[39;00m\n\u001b[1;32m----> <a href='vscode-notebook-cell:/d%3A/KULIAH/SEMESTER%203/STATISTIK%20KOMPUTASI/Tugas%202/Program%20UTS.ipynb#W0sZmlsZQ%3D%3D?line=1'>2</a>\u001b[0m \u001b[39mfrom\u001b[39;00m \u001b[39mgoogle\u001b[39;00m\u001b[39m.\u001b[39;00m\u001b[39mcolab\u001b[39;00m \u001b[39mimport\u001b[39;00m drive\n\u001b[0;32m      <a href='vscode-notebook-cell:/d%3A/KULIAH/SEMESTER%203/STATISTIK%20KOMPUTASI/Tugas%202/Program%20UTS.ipynb#W0sZmlsZQ%3D%3D?line=2'>3</a>\u001b[0m drive\u001b[39m.\u001b[39mmount (\u001b[39m'\u001b[39m\u001b[39m/content/drive\u001b[39m\u001b[39m'\u001b[39m)\n\u001b[0;32m      <a href='vscode-notebook-cell:/d%3A/KULIAH/SEMESTER%203/STATISTIK%20KOMPUTASI/Tugas%202/Program%20UTS.ipynb#W0sZmlsZQ%3D%3D?line=3'>4</a>\u001b[0m df \u001b[39m=\u001b[39m pd\u001b[39m.\u001b[39mread_excel(\u001b[39m'\u001b[39m\u001b[39m/content/drive/My Drive/googlecolab/T2 PENYAJIAN DATA_FIFA19Dataset_Sandy Aryadika Widodo_22081010323.xlsx\u001b[39m\u001b[39m'\u001b[39m)\n",
      "\u001b[1;31mModuleNotFoundError\u001b[0m: No module named 'google.colab'"
     ]
    }
   ],
   "source": [
    "import pandas as pd\n",
    "from google.colab import drive\n",
    "drive.mount ('/content/drive')\n",
    "df = pd.read_excel('/content/drive/My Drive/UTS STATKOM/T2 PENYAJIAN DATA_FIFA19Dataset_Sandy Aryadika Widodo_22081010323.xlsx')\n",
    "data = df.iloc[:2001]\n",
    "data.head()\n",
    "\n",
    "\n",
    "import pandas as pd\n",
    "from google.colab import drive\n",
    "drive.mount = '/content/drive'\n",
    "file_path = '/content/drive/My Drive/UTS STATKOM/T2 PENYAJIAN DATA_FIFA19Dataset_Sandy Aryadika Widodo_22081010323.xlsx'\n",
    "df = pd.read_excel(file_path)\n",
    "sheet_dua = pd.read_excel(file_path, sheet_name=1)"
   ]
  }
 ],
 "metadata": {
  "kernelspec": {
   "display_name": "Python 3",
   "language": "python",
   "name": "python3"
  },
  "language_info": {
   "codemirror_mode": {
    "name": "ipython",
    "version": 3
   },
   "file_extension": ".py",
   "mimetype": "text/x-python",
   "name": "python",
   "nbconvert_exporter": "python",
   "pygments_lexer": "ipython3",
   "version": "3.12.0"
  }
 },
 "nbformat": 4,
 "nbformat_minor": 2
}
